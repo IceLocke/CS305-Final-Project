{
 "cells": [
  {
   "cell_type": "raw",
   "metadata": {
    "collapsed": false
   },
   "source": [
    "In the project, the majority of tasks will undergo script testing, with only a few being reviewed by the TA. Be aware that this testing material is not final and cannot cover all testing scenarios. If you are caught cheating during testing, the whole group will receive a score of 0 for the project."
   ]
  },
  {
   "cell_type": "raw",
   "metadata": {
    "collapsed": false
   },
   "source": [
    "The script checks using the requests library in Python. Before testing, ensure that the server has three users with the usernames \"client1\", \"client2\", and \"client3\", and the passwords \"123\". In the upcoming tests, if the Authorization field is needed, use \"client1\" and \"123\" as both the username and password."
   ]
  },
  {
   "cell_type": "code",
   "execution_count": 241,
   "metadata": {
    "collapsed": false,
    "ExecuteTime": {
     "end_time": "2023-12-30T04:34:31.419870600Z",
     "start_time": "2023-12-30T04:34:31.283544400Z"
    }
   },
   "outputs": [],
   "source": [
    "import requests"
   ]
  },
  {
   "cell_type": "raw",
   "metadata": {
    "collapsed": false
   },
   "source": [
    "The initial check is the head request, a fundamental job of the server is to respond to the request. Use the \"headers\" parameter for logging into the server. Disregard this parameter if the server lacks the login feature."
   ]
  },
  {
   "cell_type": "code",
   "execution_count": 242,
   "metadata": {
    "collapsed": false,
    "ExecuteTime": {
     "end_time": "2023-12-30T04:34:31.419870600Z",
     "start_time": "2023-12-30T04:34:31.298644900Z"
    }
   },
   "outputs": [
    {
     "name": "stdout",
     "output_type": "stream",
     "text": [
      "<Response [200]>\n"
     ]
    }
   ],
   "source": [
    "headers={\"Authorization\": \"Basic Y2xpZW50MToxMjM=\"}\n",
    "q=requests.head('http://localhost:8080/',headers=headers)\n",
    "print(q)\n"
   ]
  },
  {
   "cell_type": "raw",
   "metadata": {
    "collapsed": false
   },
   "source": [
    "Test get request"
   ]
  },
  {
   "cell_type": "code",
   "execution_count": 243,
   "metadata": {
    "collapsed": false,
    "ExecuteTime": {
     "end_time": "2023-12-30T04:34:31.420401Z",
     "start_time": "2023-12-30T04:34:31.328955100Z"
    }
   },
   "outputs": [
    {
     "name": "stdout",
     "output_type": "stream",
     "text": [
      "<Response [200]>\n"
     ]
    }
   ],
   "source": [
    "headers={\"Authorization\": \"Basic Y2xpZW50MToxMjM=\"}\n",
    "q=requests.get('http://localhost:8080/',headers=headers)\n",
    "print(q)"
   ]
  },
  {
   "cell_type": "raw",
   "metadata": {
    "collapsed": false
   },
   "source": [
    "Test post request"
   ]
  },
  {
   "cell_type": "code",
   "execution_count": 244,
   "metadata": {
    "collapsed": false,
    "ExecuteTime": {
     "end_time": "2023-12-30T04:34:31.420924900Z",
     "start_time": "2023-12-30T04:34:31.342143600Z"
    }
   },
   "outputs": [
    {
     "name": "stdout",
     "output_type": "stream",
     "text": [
      "<Response [405]>\n"
     ]
    }
   ],
   "source": [
    "headers={\"Authorization\": \"Basic Y2xpZW50MToxMjM=\"}\n",
    "q=requests.post('http://localhost:8080/',headers=headers)\n",
    "print(q)"
   ]
  },
  {
   "cell_type": "raw",
   "metadata": {
    "collapsed": false
   },
   "source": [
    "Next, we will provide test examples based on the chapters in the project documentation. Each test is accompanied by a output. We do not check exact string matches for your output, as long as you complete the corresponding task.\n",
    "\n"
   ]
  },
  {
   "cell_type": "code",
   "execution_count": 245,
   "metadata": {
    "collapsed": false,
    "ExecuteTime": {
     "end_time": "2023-12-30T04:34:31.421451900Z",
     "start_time": "2023-12-30T04:34:31.362154Z"
    }
   },
   "outputs": [
    {
     "name": "stdout",
     "output_type": "stream",
     "text": [
      "<Response [200]>\n",
      "<Response [200]>\n"
     ]
    }
   ],
   "source": [
    "#1.1\n",
    "headers={\"Authorization\": \"Basic Y2xpZW50MToxMjM=\"}\n",
    "session = requests.Session()\n",
    "session.headers.update({'Connection': 'keep-alive'})\n",
    "\n",
    "response1 = session.get('http://127.0.0.1:8080',headers=headers)\n",
    "response2 = session.get('http://127.0.0.1:8080',headers=headers)\n",
    "\n",
    "print(response1)\n",
    "print(response2)\n",
    "\n",
    "\n"
   ]
  },
  {
   "cell_type": "code",
   "execution_count": 246,
   "metadata": {
    "collapsed": false,
    "ExecuteTime": {
     "end_time": "2023-12-30T04:34:31.424696100Z",
     "start_time": "2023-12-30T04:34:31.393362400Z"
    }
   },
   "outputs": [
    {
     "name": "stdout",
     "output_type": "stream",
     "text": [
      "<Response [200]>\n",
      "<Response [200]>\n"
     ]
    }
   ],
   "source": [
    "#1.2\n",
    "#1.1\n",
    "headers={\"Authorization\": \"Basic Y2xpZW50MToxMjM=\"}\n",
    "session1 = requests.Session()\n",
    "session1.headers.update({'Connection': 'keep-alive'})\n",
    "session2 = requests.Session()\n",
    "session2.headers.update({'Connection': 'keep-alive'})\n",
    "\n",
    "response1 = session1.get('http://127.0.0.1:8080',headers=headers)\n",
    "response2 = session2.get('http://127.0.0.1:8080',headers=headers)\n",
    "\n",
    "\n",
    "print(response1)\n",
    "print(response2)\n"
   ]
  },
  {
   "cell_type": "code",
   "execution_count": 247,
   "metadata": {
    "collapsed": false,
    "ExecuteTime": {
     "end_time": "2023-12-30T04:34:31.560327700Z",
     "start_time": "2023-12-30T04:34:31.422550200Z"
    }
   },
   "outputs": [
    {
     "name": "stdout",
     "output_type": "stream",
     "text": [
      "<Response [200]>\n",
      "<Response [401]>\n"
     ]
    }
   ],
   "source": [
    "#1.3\n",
    "headers1={\"Authorization\": \"Basic Y2xpZW50MToxMjM=\"}\n",
    "headers2={}\n",
    "q=requests.head('http://localhost:8080/',headers=headers1)\n",
    "print(q)\n",
    "q=requests.head('http://localhost:8080/',headers=headers2)\n",
    "print(q)"
   ]
  },
  {
   "cell_type": "code",
   "execution_count": 248,
   "metadata": {
    "collapsed": false,
    "ExecuteTime": {
     "end_time": "2023-12-30T04:34:31.561917Z",
     "start_time": "2023-12-30T04:34:31.454290400Z"
    }
   },
   "outputs": [
    {
     "name": "stdout",
     "output_type": "stream",
     "text": [
      "<Response [200]>\n",
      "[\"12589/\", \"a.py\", \"a.txt\", \"client1/\", \"client2/\", \"client3/\"]\n"
     ]
    }
   ],
   "source": [
    "#2\n",
    "url1='http://127.0.0.1:8080/?SUSTech-HTTP=1'\n",
    "\n",
    "headers={\"Authorization\": \"Basic Y2xpZW50MToxMjM=\"}\n",
    "r=requests.get(url=url1, headers=headers)\n",
    "print(r)\n",
    "print(r.content.decode())\n",
    "\n",
    "\n"
   ]
  },
  {
   "cell_type": "code",
   "execution_count": 249,
   "metadata": {
    "collapsed": false,
    "ExecuteTime": {
     "end_time": "2023-12-30T04:34:31.561917Z",
     "start_time": "2023-12-30T04:34:31.468854100Z"
    }
   },
   "outputs": [
    {
     "name": "stdout",
     "output_type": "stream",
     "text": [
      "<!DOCTYPE html>\n",
      "<html lang=\"en\">\n",
      "  <head>\n",
      "    <meta charset=\"utf-8\">\n",
      "    <title>SUSTTP Demo</title>\n",
      "    <link href=\"https://cdn.jsdelivr.net/npm/bootstrap@5.3.2/dist/css/bootstrap.min.css\" rel=\"stylesheet\" integrity=\"sha384-T3c6CoIi6uLrA9TneNEoa7RxnatzjcDSCmG1MXxSR1GAsXEV/Dwwykc2MPK8M2HN\" crossorigin=\"anonymous\">\n",
      "    <script src=\"https://cdn.bootcdn.net/ajax/libs/jquery/3.7.1/jquery.js\"></script>\n",
      "  </head>\n",
      "  <body>\n",
      "    <div class=\"container\">\n",
      "      <div class=\"row\">\n",
      "        <div class=\"col\">\n",
      "          <h1></h1>\n",
      "        </div>\n",
      "      </div>\n",
      "      \n",
      "<div class=\"row\">\n",
      "  <table class=\"table\">\n",
      "  <thead>\n",
      "    <tr>\n",
      "      <th scope=\"col\">Path</th>\n",
      "      <th scope=\"col\">Operation</th>\n",
      "    </tr>\n",
      "  </thead>\n",
      "  <tbody>\n",
      "    \n",
      "      <tr>\n",
      "        <td><a href=\"/\">/</a></td>\n",
      "        <td>\n",
      "          \n",
      "        </td>\n",
      "      </tr>\n",
      "    \n",
      "      <tr>\n",
      "        <td><a href=\"../\">../</a></td>\n",
      "        <td>\n",
      "          \n",
      "        </td>\n",
      "      </tr>\n",
      "    \n",
      "      <tr>\n",
      "        <td><a href=\"/12589/\">12589\\</a></td>\n",
      "        <td>\n",
      "          \n",
      "          <button id=\"/12589/\" type=\"button\" class=\"btn btn-danger delete-btn\">Delete</button>\n",
      "          \n",
      "        </td>\n",
      "      </tr>\n",
      "    \n",
      "      <tr>\n",
      "        <td><a href=\"/a.py\">a.py</a></td>\n",
      "        <td>\n",
      "          \n",
      "          <button id=\"/a.py\" type=\"button\" class=\"btn btn-danger delete-btn\">Delete</button>\n",
      "          \n",
      "        </td>\n",
      "      </tr>\n",
      "    \n",
      "      <tr>\n",
      "        <td><a href=\"/a.txt\">a.txt</a></td>\n",
      "        <td>\n",
      "          \n",
      "          <button id=\"/a.txt\" type=\"button\" class=\"btn btn-danger delete-btn\">Delete</button>\n",
      "          \n",
      "        </td>\n",
      "      </tr>\n",
      "    \n",
      "      <tr>\n",
      "        <td><a href=\"/client1/\">client1\\</a></td>\n",
      "        <td>\n",
      "          \n",
      "          <button id=\"/client1/\" type=\"button\" class=\"btn btn-danger delete-btn\">Delete</button>\n",
      "          \n",
      "        </td>\n",
      "      </tr>\n",
      "    \n",
      "      <tr>\n",
      "        <td><a href=\"/client2/\">client2\\</a></td>\n",
      "        <td>\n",
      "          \n",
      "          <button id=\"/client2/\" type=\"button\" class=\"btn btn-danger delete-btn\">Delete</button>\n",
      "          \n",
      "        </td>\n",
      "      </tr>\n",
      "    \n",
      "      <tr>\n",
      "        <td><a href=\"/client3/\">client3\\</a></td>\n",
      "        <td>\n",
      "          \n",
      "          <button id=\"/client3/\" type=\"button\" class=\"btn btn-danger delete-btn\">Delete</button>\n",
      "          \n",
      "        </td>\n",
      "      </tr>\n",
      "    \n",
      "  </tbody>\n",
      "</table>\n",
      "</div>\n",
      "<form id=\"uploadForm\" style=\"margin-top: 2em\" enctype=\"multipart/form-data\">\n",
      "  <div class=\"row text-center\">\n",
      "   <div class=\"col-auto\">\n",
      "      <label for=\"fileupload\" class=\"form-label\"></label>\n",
      "    </div>\n",
      "    <div class=\"col-auto\">\n",
      "      <input class=\"form-control\" id=\"fileupload\" type=\"file\">\n",
      "    </div>\n",
      "    <div class=\"col-3\">\n",
      "      <button type=\"submit\" class=\"btn btn-primary mb-3\">Upload</button>\n",
      "    </div>\n",
      "  </div>\n",
      "</form>\n",
      "<script>\n",
      "  $(\"#uploadForm\").submit(function (evt) {\n",
      "      evt.preventDefault();\n",
      "      let formData = new FormData();\n",
      "      const file = $('#fileupload')[0].files[0];\n",
      "      if (file == null) {\n",
      "          alert('Did not choose file!')\n",
      "          return\n",
      "      }\n",
      "      formData.append(\"file\", file);\n",
      "      $.ajax({\n",
      "          url: '/upload?path='+location.pathname,\n",
      "          type: 'POST',\n",
      "          data: formData,\n",
      "          async: false,\n",
      "          cache: false,\n",
      "          contentType: false,\n",
      "          enctype: 'multipart/form-data',\n",
      "          processData: false,\n",
      "          success: function (response) {\n",
      "            let resp = 'Success!'\n",
      "            if (response) {\n",
      "              resp += '\\nServer response: ' + response.status + ' ' + response.statusText;\n",
      "            }\n",
      "            alert(resp);\n",
      "          },\n",
      "          error: function (response) {\n",
      "              let resp = 'Error occurred.'\n",
      "              if (response) {\n",
      "                resp += '\\nServer response: ' + response.status + ' ' + response.statusText;\n",
      "              }\n",
      "              alert(resp)\n",
      "          }\n",
      "       });\n",
      "\n",
      "       return false;\n",
      "  })\n",
      "  $(\".delete-btn\").click(function (){\n",
      "      $.ajax({\n",
      "          url: \"/delete?path=\"+this.id,\n",
      "          type: 'POST',\n",
      "          success: function (response) {\n",
      "            let resp = 'Success!'\n",
      "            if (response) {\n",
      "              resp += '\\nServer response: ' + response.status + ' ' + response.statusText;\n",
      "            }\n",
      "            alert(resp);\n",
      "          },\n",
      "          error: function (response) {\n",
      "              let resp = 'Error occurred.'\n",
      "              if (response) {\n",
      "                resp += '\\nServer response: ' + response.status + ' ' + response.statusText;\n",
      "              }\n",
      "              alert(resp)\n",
      "          }\n",
      "      })\n",
      "  })\n",
      "</script>\n",
      "\n",
      "    </div>\n",
      "\n",
      "    <script src=\"https://cdn.jsdelivr.net/npm/bootstrap@5.3.2/dist/js/bootstrap.bundle.min.js\" integrity=\"sha384-C6RzsynM9kWDrMNeT87bh95OGNyZPhcTNXj1NW7RuBCsyN/o0jlpcV8Qyq46cDfL\" crossorigin=\"anonymous\"></script>\n",
      "  </body>\n",
      "</html>\n"
     ]
    }
   ],
   "source": [
    "#2\n",
    "url2='http://127.0.0.1:8080/?SUSTech-HTTP=0'\n",
    "\n",
    "headers={\"Authorization\": \"Basic Y2xpZW50MToxMjM=\"}\n",
    "r=requests.get(url=url2, headers=headers)\n",
    "print(r.content.decode())"
   ]
  },
  {
   "cell_type": "code",
   "execution_count": 250,
   "metadata": {
    "collapsed": false,
    "ExecuteTime": {
     "end_time": "2023-12-30T04:34:31.564603Z",
     "start_time": "2023-12-30T04:34:31.486102Z"
    }
   },
   "outputs": [
    {
     "name": "stdout",
     "output_type": "stream",
     "text": [
      "sadfsdfasdf\n"
     ]
    }
   ],
   "source": [
    "#2\n",
    "headers={\"Authorization\": \"Basic Y2xpZW50MToxMjM=\"}\n",
    "r=requests.get(url='http://127.0.0.1:8080/a.txt', headers=headers)\n",
    "print(r.content.decode())"
   ]
  },
  {
   "cell_type": "code",
   "execution_count": 251,
   "metadata": {
    "collapsed": false,
    "ExecuteTime": {
     "end_time": "2023-12-30T04:34:31.598788900Z",
     "start_time": "2023-12-30T04:34:31.549747200Z"
    }
   },
   "outputs": [
    {
     "name": "stdout",
     "output_type": "stream",
     "text": [
      "<Response [200]>\n",
      "<Response [403]>\n"
     ]
    }
   ],
   "source": [
    "#3.1\n",
    "files = {\"firstFile\": open('tmp/a.txt', \"rb\")}\n",
    "\n",
    "\n",
    "data={}\n",
    "headers={\"Authorization\": \"Basic Y2xpZW50MToxMjM=\"}\n",
    "r=requests.post(url='http://127.0.0.1:8080/upload?path=client1/',data=data,headers=headers, files=files)\n",
    "print(r)\n",
    "r=requests.post(url='http://127.0.0.1:8080/upload?path=client2/',data=data,headers=headers, files=files)\n",
    "print(r)"
   ]
  },
  {
   "cell_type": "code",
   "execution_count": 252,
   "metadata": {
    "collapsed": false,
    "ExecuteTime": {
     "end_time": "2023-12-30T04:34:31.665916200Z",
     "start_time": "2023-12-30T04:34:31.579759900Z"
    }
   },
   "outputs": [
    {
     "name": "stdout",
     "output_type": "stream",
     "text": [
      "<Response [200]>\n"
     ]
    }
   ],
   "source": [
    "#3.2\n",
    "url='http://127.0.0.1:8080/delete?path=client1/a.py'\n",
    "\n",
    "headers={\"Authorization\": \"Basic Y2xpZW50MToxMjM=\"}\n",
    "r=requests.post(url=url, headers=headers)\n",
    "print(r)"
   ]
  },
  {
   "cell_type": "code",
   "execution_count": 253,
   "metadata": {
    "collapsed": false,
    "ExecuteTime": {
     "end_time": "2023-12-30T04:34:31.668035900Z",
     "start_time": "2023-12-30T04:34:31.593194200Z"
    }
   },
   "outputs": [
    {
     "name": "stdout",
     "output_type": "stream",
     "text": [
      "f5c6a5d6c0523edf6a052b111d6bc10deaf23452ef0a823b63dad0ae8b65f054\n",
      "<Response [200]>\n"
     ]
    }
   ],
   "source": [
    "#4\n",
    "url='http://127.0.0.1:8080/'\n",
    "\n",
    "headers={\"Authorization\": \"Basic Y2xpZW50MToxMjM=\"}\n",
    "r=requests.get(url=url, headers=headers)\n",
    "print(r.cookies.values()[0])\n",
    "headers={\"Cookie\":'session-id='+r.cookies.values()[0]}\n",
    "q=requests.get('http://localhost:8080/',headers=headers)\n",
    "print(q)\n",
    "# print(q.cookies)"
   ]
  },
  {
   "cell_type": "code",
   "execution_count": 254,
   "metadata": {
    "collapsed": false,
    "ExecuteTime": {
     "end_time": "2023-12-30T04:34:31.668035900Z",
     "start_time": "2023-12-30T04:34:31.626461800Z"
    }
   },
   "outputs": [
    {
     "name": "stdout",
     "output_type": "stream",
     "text": [
      "<Response [200]>\n"
     ]
    }
   ],
   "source": [
    "#5\n",
    "headers={\"Authorization\": \"Basic Y2xpZW50MToxMjM=\"}\n",
    "r=requests.get(url='http://127.0.0.1:8080/client1/a.txt?chunked=1', headers=headers)\n",
    "print(r)"
   ]
  },
  {
   "cell_type": "code",
   "execution_count": 255,
   "metadata": {
    "collapsed": false,
    "ExecuteTime": {
     "end_time": "2023-12-30T04:34:31.668555Z",
     "start_time": "2023-12-30T04:34:31.641167400Z"
    }
   },
   "outputs": [
    {
     "name": "stdout",
     "output_type": "stream",
     "text": [
      "<Response [206]>\n",
      "--3d6b6a416f9b5\r\n",
      "Content-Type: text/plain\r\n",
      "Content-Range: bytes 0-1/11\r\n",
      "\r\n",
      "sa\r\n",
      "--3d6b6a416f9b5\r\n",
      "Content-Type: text/plain\r\n",
      "Content-Range: bytes 1-2/11\r\n",
      "\r\n",
      "ad\r\n",
      "--3d6b6a416f9b5\r\n",
      "Content-Type: text/plain\r\n",
      "Content-Range: bytes 2-3/11\r\n",
      "\r\n",
      "df\r\n",
      "--3d6b6a416f9b5\r\n",
      "Content-Type: text/plain\r\n",
      "Content-Range: bytes 10-10/11\r\n",
      "\r\n",
      "f\r\n",
      "--3d6b6a416f9b5\r\n",
      "Content-Type: text/plain\r\n",
      "Content-Range: bytes 10-10/11\r\n",
      "\r\n",
      "f\r\n",
      "--3d6b6a416f9b5\r\n",
      "Content-Type: text/plain\r\n",
      "Content-Range: bytes 9-10/11\r\n",
      "\r\n",
      "df\r\n",
      "--3d6b6a416f9b5\r\n",
      "Content-Type: text/plain\r\n",
      "Content-Range: bytes 1-10/11\r\n",
      "\r\n",
      "adfsdfasdf\r\n",
      "--3d6b6a416f9b5\r\n",
      "Content-Type: text/plain\r\n",
      "Content-Range: bytes 1-1/11\r\n",
      "\r\n",
      "a\r\n",
      "--3d6b6a416f9b5--\n"
     ]
    }
   ],
   "source": [
    "#Breakpoint Transmission\n",
    "url='http://127.0.0.1:8080/client1/a.txt'\n",
    "\n",
    "data={}\n",
    "headers={\"Authorization\": \"Basic Y2xpZW50MToxMjM=\",\n",
    "         \"Range\": \"0-1,1-2,2-3,-1,10-10,-2,1-,1-1\"}\n",
    "r=requests.get(url=url, data=data, headers=headers)\n",
    "print(r)\n",
    "print(r.content.decode())"
   ]
  }
 ],
 "metadata": {
  "kernelspec": {
   "display_name": "Python 3",
   "language": "python",
   "name": "python3"
  },
  "language_info": {
   "codemirror_mode": {
    "name": "ipython",
    "version": 3
   },
   "file_extension": ".py",
   "mimetype": "text/x-python",
   "name": "python",
   "nbconvert_exporter": "python",
   "pygments_lexer": "ipython3",
   "version": "3.10.12"
  }
 },
 "nbformat": 4,
 "nbformat_minor": 0
}
