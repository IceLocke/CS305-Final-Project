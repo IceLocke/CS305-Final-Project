{
 "cells": [
  {
   "cell_type": "code",
   "execution_count": 2,
   "metadata": {},
   "outputs": [],
   "source": [
    "from Crypto.PublicKey import RSA\n",
    "from Crypto.Cipher import PKCS1_OAEP, AES\n",
    "from Crypto.Util.Padding import pad, unpad"
   ]
  },
  {
   "cell_type": "code",
   "execution_count": 3,
   "metadata": {},
   "outputs": [
    {
     "name": "stdout",
     "output_type": "stream",
     "text": [
      "Public Key:\n",
      " b'-----BEGIN PUBLIC KEY-----\\nMIIBIjANBgkqhkiG9w0BAQEFAAOCAQ8AMIIBCgKCAQEAnUSsHApe1sw/bR+0kaK7\\nxVvDJgdWzyTe1FEgvLqnL9p9RgaNKSVESsiNtaK0FTILivPVwC0HTr2JfmOYESGY\\nw+zTJZtPgHmUX9ji6AATow0QdMgOCtxT42A15ANGmRPihIG2pwUuJ6bo5UwivrcE\\ntfB8XIwebs4UbzDihlzHG81rEi4QkQ1Jm77Zg2AYjqoT8jG5ulncFGtKgYyp+ExS\\n83sw5vKyEoZm4XS9mX8sP0CncFyQ8uxcsP8iyAw2rE1Fk6sC53TTk5wZ/QLl6MS6\\n5QoPvBJZLMKRwa4rCikGMeMhxMuMgf7Prw1UzBTddwmKbuuHzCcmvMlw4ZtDvLIk\\ntwIDAQAB\\n-----END PUBLIC KEY-----' \n",
      "\n",
      "Symmetric Key:\n",
      " b'AES Key\\t\\t\\t\\t\\t\\t\\t\\t\\t' \n",
      "\n",
      "Symmetric Key:\n",
      " b'AES Key\\t\\t\\t\\t\\t\\t\\t\\t\\t' \n",
      "\n",
      "send:\n",
      " b'This is the content!\\x0c\\x0c\\x0c\\x0c\\x0c\\x0c\\x0c\\x0c\\x0c\\x0c\\x0c\\x0c' \n",
      "\n",
      "recv:\n",
      " b'This is the content!' \n",
      "\n"
     ]
    }
   ],
   "source": [
    "# negotiate with RSA\n",
    "# client request server to send the public key \n",
    "key = RSA.generate(2048)\n",
    "private_key = key.export_key()\n",
    "public_key = key.publickey().export_key()\n",
    "publicKey = RSA.import_key(public_key)\n",
    "\n",
    "print('Public Key:\\n', public_key, '\\n')\n",
    "\n",
    "\n",
    "# client encrypt the symmetric key with the public key\n",
    "aes_key = pad(b'AES Key', 16)\n",
    "cipher = PKCS1_OAEP.new(publicKey)\n",
    "encrypted_data = cipher.encrypt(aes_key)\n",
    "\n",
    "print('Symmetric Key:\\n', aes_key, '\\n')\n",
    "\n",
    "\n",
    "# server decrypt the symmetric key with the private key\n",
    "privateKey = RSA.import_key(private_key)\n",
    "cipher = PKCS1_OAEP.new(privateKey)\n",
    "aes_key = cipher.decrypt(encrypted_data)\n",
    "print('Symmetric Key:\\n', aes_key, '\\n')\n",
    "\n",
    "\n",
    "# then communicate with AES\n",
    "iv = pad(b'Initial Vector', 16)\n",
    "send = pad(b'This is the content!', 16)\n",
    "cipher = AES.new(aes_key, AES.MODE_CBC, iv)\n",
    "body = cipher.encrypt(send)\n",
    "\n",
    "print('send:\\n', send, '\\n')\n",
    "\n",
    "\n",
    "cipher = AES.new(aes_key, AES.MODE_CBC, iv)\n",
    "recv = unpad(cipher.decrypt(body), 16)\n",
    "\n",
    "print('recv:\\n', recv, '\\n')"
   ]
  },
  {
   "cell_type": "code",
   "execution_count": 4,
   "metadata": {},
   "outputs": [],
   "source": [
    "a = {}\n",
    "\n"
   ]
  }
 ],
 "metadata": {
  "kernelspec": {
   "display_name": "ml",
   "language": "python",
   "name": "python3"
  },
  "language_info": {
   "codemirror_mode": {
    "name": "ipython",
    "version": 3
   },
   "file_extension": ".py",
   "mimetype": "text/x-python",
   "name": "python",
   "nbconvert_exporter": "python",
   "pygments_lexer": "ipython3",
   "version": "3.10.13"
  }
 },
 "nbformat": 4,
 "nbformat_minor": 2
}
